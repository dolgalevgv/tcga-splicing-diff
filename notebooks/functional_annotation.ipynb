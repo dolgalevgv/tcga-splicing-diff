{
 "cells": [
  {
   "cell_type": "code",
   "execution_count": 1,
   "id": "e0681f5a-63a9-4cf6-a8d5-e464fe93512c",
   "metadata": {},
   "outputs": [],
   "source": [
    "import numpy as np\n",
    "import pandas as pd"
   ]
  },
  {
   "cell_type": "code",
   "execution_count": 2,
   "id": "81464efa-e038-468d-bd77-ea415ba44c8f",
   "metadata": {},
   "outputs": [],
   "source": [
    "annot = pd.read_csv('../data/processed/ensembl_annotation_050722.csv', low_memory=False)"
   ]
  },
  {
   "cell_type": "code",
   "execution_count": 3,
   "id": "a2cb0736-a091-4594-8c28-c4e3cd23f461",
   "metadata": {},
   "outputs": [],
   "source": [
    "res = pd.read_excel('../reports/cons_mdt_results_170922.xlsx', index_col=[0,1]).reset_index()"
   ]
  },
  {
   "cell_type": "code",
   "execution_count": 4,
   "id": "b5a51d46-a178-4655-9f1e-0a4cbb013bbb",
   "metadata": {},
   "outputs": [],
   "source": [
    "res['ensembl_gene_name'] = res['ensembl_gene_id'].map(annot.drop_duplicates('ensembl_gene_id').set_index('ensembl_gene_id')['ensembl_gene_name'])"
   ]
  },
  {
   "cell_type": "code",
   "execution_count": 5,
   "id": "03a99432-337c-4166-8277-c64fbdf945d4",
   "metadata": {},
   "outputs": [],
   "source": [
    "res['cancer_isoform_type'] = res['isoform_cancer'].map(annot.set_index('ensembl_trs_id')['trs_type'])"
   ]
  },
  {
   "cell_type": "code",
   "execution_count": 6,
   "id": "225fbf9e-b2c8-4c8b-9d37-28e92bc14477",
   "metadata": {},
   "outputs": [],
   "source": [
    "res['norm_isoform_type'] = res['isoform_norm'].map(annot.set_index('ensembl_trs_id')['trs_type'])"
   ]
  },
  {
   "cell_type": "code",
   "execution_count": 7,
   "id": "bee0f313-9d58-4587-83cc-e6a79dce5649",
   "metadata": {},
   "outputs": [
    {
     "data": {
      "text/html": [
       "<div>\n",
       "<style scoped>\n",
       "    .dataframe tbody tr th:only-of-type {\n",
       "        vertical-align: middle;\n",
       "    }\n",
       "\n",
       "    .dataframe tbody tr th {\n",
       "        vertical-align: top;\n",
       "    }\n",
       "\n",
       "    .dataframe thead th {\n",
       "        text-align: right;\n",
       "    }\n",
       "</style>\n",
       "<table border=\"1\" class=\"dataframe\">\n",
       "  <thead>\n",
       "    <tr style=\"text-align: right;\">\n",
       "      <th></th>\n",
       "      <th>ensembl_gene_id</th>\n",
       "      <th>cancer_type</th>\n",
       "      <th>isoform_cancer</th>\n",
       "      <th>isoform_norm</th>\n",
       "      <th>ensembl_gene_name</th>\n",
       "      <th>cancer_isoform_type</th>\n",
       "      <th>norm_isoform_type</th>\n",
       "    </tr>\n",
       "  </thead>\n",
       "  <tbody>\n",
       "    <tr>\n",
       "      <th>0</th>\n",
       "      <td>ENSG00000189403</td>\n",
       "      <td>UCEC</td>\n",
       "      <td>ENST00000399494</td>\n",
       "      <td>ENST00000339872</td>\n",
       "      <td>HMGB1</td>\n",
       "      <td>protein_coding</td>\n",
       "      <td>protein_coding</td>\n",
       "    </tr>\n",
       "    <tr>\n",
       "      <th>1</th>\n",
       "      <td>ENSG00000120675</td>\n",
       "      <td>LUAD</td>\n",
       "      <td>ENST00000474320</td>\n",
       "      <td>ENST00000379221</td>\n",
       "      <td>DNAJC15</td>\n",
       "      <td>processed_transcript</td>\n",
       "      <td>protein_coding</td>\n",
       "    </tr>\n",
       "    <tr>\n",
       "      <th>2</th>\n",
       "      <td>ENSG00000120675</td>\n",
       "      <td>UCEC</td>\n",
       "      <td>ENST00000474320</td>\n",
       "      <td>ENST00000379221</td>\n",
       "      <td>DNAJC15</td>\n",
       "      <td>processed_transcript</td>\n",
       "      <td>protein_coding</td>\n",
       "    </tr>\n",
       "    <tr>\n",
       "      <th>3</th>\n",
       "      <td>ENSG00000132970</td>\n",
       "      <td>UCEC</td>\n",
       "      <td>ENST00000335327</td>\n",
       "      <td>ENST00000361042</td>\n",
       "      <td>WASF3</td>\n",
       "      <td>protein_coding</td>\n",
       "      <td>protein_coding</td>\n",
       "    </tr>\n",
       "    <tr>\n",
       "      <th>4</th>\n",
       "      <td>ENSG00000102755</td>\n",
       "      <td>LUSC</td>\n",
       "      <td>ENST00000615840</td>\n",
       "      <td>ENST00000282397</td>\n",
       "      <td>FLT1</td>\n",
       "      <td>protein_coding</td>\n",
       "      <td>protein_coding</td>\n",
       "    </tr>\n",
       "    <tr>\n",
       "      <th>...</th>\n",
       "      <td>...</td>\n",
       "      <td>...</td>\n",
       "      <td>...</td>\n",
       "      <td>...</td>\n",
       "      <td>...</td>\n",
       "      <td>...</td>\n",
       "      <td>...</td>\n",
       "    </tr>\n",
       "    <tr>\n",
       "      <th>554</th>\n",
       "      <td>ENSG00000117472</td>\n",
       "      <td>CHOL</td>\n",
       "      <td>ENST00000372003</td>\n",
       "      <td>ENST00000464786</td>\n",
       "      <td>TSPAN1</td>\n",
       "      <td>protein_coding</td>\n",
       "      <td>processed_transcript</td>\n",
       "    </tr>\n",
       "    <tr>\n",
       "      <th>555</th>\n",
       "      <td>ENSG00000211454</td>\n",
       "      <td>CHOL</td>\n",
       "      <td>ENST00000457194</td>\n",
       "      <td>ENST00000429712</td>\n",
       "      <td>AKR7L</td>\n",
       "      <td>polymorphic_pseudogene</td>\n",
       "      <td>polymorphic_pseudogene</td>\n",
       "    </tr>\n",
       "    <tr>\n",
       "      <th>556</th>\n",
       "      <td>ENSG00000196420</td>\n",
       "      <td>THCA</td>\n",
       "      <td>ENST00000368718</td>\n",
       "      <td>ENST00000368717</td>\n",
       "      <td>S100A5</td>\n",
       "      <td>protein_coding</td>\n",
       "      <td>protein_coding</td>\n",
       "    </tr>\n",
       "    <tr>\n",
       "      <th>557</th>\n",
       "      <td>ENSG00000220785</td>\n",
       "      <td>COAD</td>\n",
       "      <td>ENST00000423995</td>\n",
       "      <td>ENST00000403496</td>\n",
       "      <td>MTMR9LP</td>\n",
       "      <td>processed_transcript</td>\n",
       "      <td>processed_transcript</td>\n",
       "    </tr>\n",
       "    <tr>\n",
       "      <th>558</th>\n",
       "      <td>ENSG00000220785</td>\n",
       "      <td>READ</td>\n",
       "      <td>ENST00000423995</td>\n",
       "      <td>ENST00000403496</td>\n",
       "      <td>MTMR9LP</td>\n",
       "      <td>processed_transcript</td>\n",
       "      <td>processed_transcript</td>\n",
       "    </tr>\n",
       "  </tbody>\n",
       "</table>\n",
       "<p>559 rows × 7 columns</p>\n",
       "</div>"
      ],
      "text/plain": [
       "     ensembl_gene_id cancer_type   isoform_cancer     isoform_norm  \\\n",
       "0    ENSG00000189403        UCEC  ENST00000399494  ENST00000339872   \n",
       "1    ENSG00000120675        LUAD  ENST00000474320  ENST00000379221   \n",
       "2    ENSG00000120675        UCEC  ENST00000474320  ENST00000379221   \n",
       "3    ENSG00000132970        UCEC  ENST00000335327  ENST00000361042   \n",
       "4    ENSG00000102755        LUSC  ENST00000615840  ENST00000282397   \n",
       "..               ...         ...              ...              ...   \n",
       "554  ENSG00000117472        CHOL  ENST00000372003  ENST00000464786   \n",
       "555  ENSG00000211454        CHOL  ENST00000457194  ENST00000429712   \n",
       "556  ENSG00000196420        THCA  ENST00000368718  ENST00000368717   \n",
       "557  ENSG00000220785        COAD  ENST00000423995  ENST00000403496   \n",
       "558  ENSG00000220785        READ  ENST00000423995  ENST00000403496   \n",
       "\n",
       "    ensembl_gene_name     cancer_isoform_type       norm_isoform_type  \n",
       "0               HMGB1          protein_coding          protein_coding  \n",
       "1             DNAJC15    processed_transcript          protein_coding  \n",
       "2             DNAJC15    processed_transcript          protein_coding  \n",
       "3               WASF3          protein_coding          protein_coding  \n",
       "4                FLT1          protein_coding          protein_coding  \n",
       "..                ...                     ...                     ...  \n",
       "554            TSPAN1          protein_coding    processed_transcript  \n",
       "555             AKR7L  polymorphic_pseudogene  polymorphic_pseudogene  \n",
       "556            S100A5          protein_coding          protein_coding  \n",
       "557           MTMR9LP    processed_transcript    processed_transcript  \n",
       "558           MTMR9LP    processed_transcript    processed_transcript  \n",
       "\n",
       "[559 rows x 7 columns]"
      ]
     },
     "execution_count": 7,
     "metadata": {},
     "output_type": "execute_result"
    }
   ],
   "source": [
    "res"
   ]
  },
  {
   "cell_type": "code",
   "execution_count": 8,
   "id": "4d6afeea-74eb-455a-96bd-37cb1166d040",
   "metadata": {},
   "outputs": [],
   "source": [
    "genes_old = pd.read_excel('../reports/tcga_splicing_diff_strict_all_20220513.xlsx')"
   ]
  },
  {
   "cell_type": "code",
   "execution_count": 9,
   "id": "ecb1eee0-4aa0-405a-ab67-451e97b87c39",
   "metadata": {},
   "outputs": [],
   "source": [
    "genes_old = set(genes_old['gene_name'].dropna().unique())"
   ]
  },
  {
   "cell_type": "code",
   "execution_count": 10,
   "id": "a54a12cb-be11-4e29-a9d6-e99d2a10045a",
   "metadata": {},
   "outputs": [],
   "source": [
    "genes_new = set(res['ensembl_gene_name'].unique())"
   ]
  },
  {
   "cell_type": "code",
   "execution_count": 11,
   "id": "04b19b63-d30e-41c0-897b-03e93282e7d9",
   "metadata": {},
   "outputs": [
    {
     "data": {
      "text/plain": [
       "0.6857142857142857"
      ]
     },
     "execution_count": 11,
     "metadata": {},
     "output_type": "execute_result"
    }
   ],
   "source": [
    "len(genes_old.intersection(genes_new)) / len(genes_old)"
   ]
  },
  {
   "cell_type": "code",
   "execution_count": null,
   "id": "6e87aeec-258d-4bdf-b16f-ac451b9fe1cd",
   "metadata": {},
   "outputs": [],
   "source": []
  }
 ],
 "metadata": {
  "kernelspec": {
   "display_name": "Python 3 (ipykernel)",
   "language": "python",
   "name": "python3"
  },
  "language_info": {
   "codemirror_mode": {
    "name": "ipython",
    "version": 3
   },
   "file_extension": ".py",
   "mimetype": "text/x-python",
   "name": "python",
   "nbconvert_exporter": "python",
   "pygments_lexer": "ipython3",
   "version": "3.10.4"
  }
 },
 "nbformat": 4,
 "nbformat_minor": 5
}
