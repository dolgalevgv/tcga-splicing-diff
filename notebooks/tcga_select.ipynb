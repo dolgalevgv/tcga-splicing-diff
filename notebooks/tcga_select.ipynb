{
 "cells": [
  {
   "cell_type": "code",
   "execution_count": 52,
   "id": "a064a8e4-5b02-43cb-a189-8216b38ee185",
   "metadata": {},
   "outputs": [],
   "source": [
    "import numpy as np\n",
    "import pandas as pd\n",
    "import matplotlib.pyplot as plt\n",
    "from matplotlib.lines import Line2D\n",
    "import matplotlib.transforms as transforms\n",
    "import seaborn as sns"
   ]
  },
  {
   "cell_type": "code",
   "execution_count": 51,
   "id": "49451720-fccd-49bd-ba10-7b06264af767",
   "metadata": {},
   "outputs": [],
   "source": [
    "sns.set(style='whitegrid')"
   ]
  },
  {
   "cell_type": "code",
   "execution_count": 5,
   "id": "5a2da034-5cf8-4660-a025-1a69263aaefd",
   "metadata": {},
   "outputs": [],
   "source": [
    "samples = ['BLCA', 'BRCA', 'CESC', 'CHOL',\n",
    "           'COAD', 'ESCA', 'GBM', 'HNSC',\n",
    "           'KICH', 'KIRC', 'LUAD', 'LUSC', \n",
    "           'PAAD', 'PCPG', 'PRAD', 'READ',\n",
    "           'SARC', 'STAD', 'THCA', 'THYM', 'UCEC']\n",
    "\n",
    "tissues = ['bladder', 'esophagus', 'kidney', \n",
    "           'liver', 'lung', 'stomach']"
   ]
  },
  {
   "cell_type": "code",
   "execution_count": 188,
   "id": "91d90a61-44da-4532-a5df-15624e9deb62",
   "metadata": {},
   "outputs": [],
   "source": [
    "def isoform_viz(cancer, norm, subset=None, swarm=False, save=False):\n",
    "    global samples\n",
    "    if not subset:\n",
    "        subset = samples\n",
    "        \n",
    "    samples_c = []\n",
    "    samples_n = []\n",
    "    \n",
    "    for s in subset:\n",
    "        samples_c.append(pd.read_csv(f'../data/tcga_initial/{s}_canc.tsv', sep='\\t'))\n",
    "        samples_n.append(pd.read_csv(f'../data/tcga_initial/{s}_norm.tsv', sep='\\t'))\n",
    "    \n",
    "    iso_avg_cc = []\n",
    "    iso_avg_cn = []\n",
    "    \n",
    "    for s in samples_c:\n",
    "        if cancer in s['UniProt'].to_list():\n",
    "            iso_avg_cc.append(np.log(s[s['UniProt'] == cancer].iloc[:,6:].to_numpy()[0]+1))\n",
    "        else:\n",
    "            iso_avg_cc.append([0])\n",
    "        \n",
    "        if norm in s['UniProt'].to_list():\n",
    "            iso_avg_cn.append(np.log(s[s['UniProt'] == norm].iloc[:,6:].to_numpy()[0]+1))\n",
    "        else:\n",
    "            iso_avg_cn.append([0])\n",
    "            \n",
    "    iso_avg_nc = []\n",
    "    iso_avg_nn = []\n",
    "    \n",
    "    for s in samples_n:\n",
    "        if cancer in s['UniProt'].to_list():\n",
    "            iso_avg_nc.append(np.log(s[s['UniProt'] == cancer].iloc[:,6:].to_numpy()[0]+1))\n",
    "        else:\n",
    "            iso_avg_nc.append([0])\n",
    "        \n",
    "        if norm in s['UniProt'].to_list():\n",
    "            iso_avg_nn.append(np.log(s[s['UniProt'] == norm].iloc[:,6:].to_numpy()[0]+1))\n",
    "        else:\n",
    "            iso_avg_nn.append([0])\n",
    "        \n",
    "    fig, ax = plt.subplots(figsize=(4*len(subset),6))\n",
    "    \n",
    "    trans_label = transforms.blended_transform_factory(ax.transData, ax.transAxes)\n",
    "    \n",
    "    ax.boxplot(x = iso_avg_cc, positions=np.arange(stop=4*len(subset), step=4)-3.9, showfliers=False,\n",
    "                labels=[cancer,]*len(subset), patch_artist=True, boxprops={'facecolor':'C3'}, medianprops={'color':'black'})\n",
    "    ax.boxplot(x = iso_avg_cn, positions=np.arange(stop=4*len(subset), step=4)-3.1, showfliers=False, \n",
    "                labels=[norm,]*len(subset), patch_artist=True, boxprops={'facecolor':'C2'}, medianprops={'color':'black'})\n",
    "    ax.boxplot(x = iso_avg_nc, positions=np.arange(stop=4*len(subset), step=4)-1.9, showfliers=False, \n",
    "                labels=[cancer,]*len(subset), patch_artist=True, boxprops={'facecolor':'C3'}, medianprops={'color':'black'})\n",
    "    ax.boxplot(x = iso_avg_nn, positions=np.arange(stop=4*len(subset), step=4)-1.1, showfliers=False,\n",
    "                labels=[norm,]*len(subset), patch_artist=True, boxprops={'facecolor':'C2'}, medianprops={'color':'black'})\n",
    "    \n",
    "    ymin, ymax = plt.ylim()\n",
    "    ax.set_ylim(bottom=0, top=1.15*ymax)\n",
    "    ax.set_ylabel('ln(TPM+1)')\n",
    "    \n",
    "    for i in range(len(subset)):\n",
    "        ax.text(i*4-3.5,-0.12,'Cancer', ha='center', transform=trans_label)\n",
    "        ax.text(i*4-1.5,-0.12,'Norm', ha='center', transform=trans_label)\n",
    "        ax.text(i*4-2.5,-0.16, subset[i], ha='center', transform=trans_label)\n",
    "        \n",
    "    legends = [Line2D([0], [0], marker='o', color='w', markerfacecolor='C3', markersize=12, label='Isoform prevailing in Cancer'),\n",
    "               Line2D([0], [0], marker='o', color='w', markerfacecolor='C2', markersize=12, label='Isoform prevailing in Norm')]\n",
    "    \n",
    "    plt.subplots_adjust(top=0.8)\n",
    "    ax.legend(handles=legends, loc='upper right')\n",
    "    plt.savefig('viztest2.png', dpi=300, bbox_inches='tight')"
   ]
  },
  {
   "cell_type": "code",
   "execution_count": 191,
   "id": "f0343432-bde5-4733-a314-eeca9d8795be",
   "metadata": {},
   "outputs": [
    {
     "data": {
      "image/png": "[encoded data removed]",
      "text/plain": [
       "<Figure size 864x432 with 1 Axes>"
      ]
     },
     "metadata": {},
     "output_type": "display_data"
    }
   ],
   "source": [
    "isoform_viz(cancer='Q8TCG5-2', norm='Q8TCG5-3', subset=['BLCA', 'CESC', 'CHOL'])"
   ]
  },
  {
   "cell_type": "code",
   "execution_count": 175,
   "id": "cf95d0b6-66ff-41c3-94ce-4feeed647027",
   "metadata": {},
   "outputs": [],
   "source": [
    "x = pd.read_csv(f'../data/tcga_initial/CESC_norm.tsv', sep='\\t')"
   ]
  },
  {
   "cell_type": "code",
   "execution_count": 176,
   "id": "d11e9668-1e20-4dcc-95b2-b85e86c9b437",
   "metadata": {},
   "outputs": [
    {
     "data": {
      "text/html": [
       "<div>\n",
       "<style scoped>\n",
       "    .dataframe tbody tr th:only-of-type {\n",
       "        vertical-align: middle;\n",
       "    }\n",
       "\n",
       "    .dataframe tbody tr th {\n",
       "        vertical-align: top;\n",
       "    }\n",
       "\n",
       "    .dataframe thead th {\n",
       "        text-align: right;\n",
       "    }\n",
       "</style>\n",
       "<table border=\"1\" class=\"dataframe\">\n",
       "  <thead>\n",
       "    <tr style=\"text-align: right;\">\n",
       "      <th></th>\n",
       "      <th>UniProt</th>\n",
       "      <th>canonical</th>\n",
       "      <th>chr</th>\n",
       "      <th>Gene</th>\n",
       "      <th>ucsc</th>\n",
       "      <th>Avg</th>\n",
       "      <th>TCGA-FU-A3EO-11A-13R-A213-07</th>\n",
       "      <th>TCGA-HM-A3JJ-11A-12R-A21T-07</th>\n",
       "      <th>TCGA-MY-A5BF-11A-11R-A26T-07</th>\n",
       "    </tr>\n",
       "  </thead>\n",
       "  <tbody>\n",
       "  </tbody>\n",
       "</table>\n",
       "</div>"
      ],
      "text/plain": [
       "Empty DataFrame\n",
       "Columns: [UniProt, canonical, chr, Gene, ucsc, Avg, TCGA-FU-A3EO-11A-13R-A213-07, TCGA-HM-A3JJ-11A-12R-A21T-07, TCGA-MY-A5BF-11A-11R-A26T-07]\n",
       "Index: []"
      ]
     },
     "execution_count": 176,
     "metadata": {},
     "output_type": "execute_result"
    }
   ],
   "source": [
    "x[x['UniProt'] == 'Q9UQ84']"
   ]
  },
  {
   "cell_type": "code",
   "execution_count": 23,
   "id": "df2dd5d9-0bb9-4bfa-a14f-87035602f9bc",
   "metadata": {},
   "outputs": [],
   "source": [
    "x = pd.read_csv(f'../data/tcga_initial/BLCA_canc.tsv', sep='\\t')"
   ]
  },
  {
   "cell_type": "code",
   "execution_count": 47,
   "id": "bc64a660-dfe3-40dc-ab94-de0d74e5bf19",
   "metadata": {},
   "outputs": [
    {
     "data": {
      "text/plain": [
       "['Q8WWZ4-4', 'Q8WWZ4-4', 'Q8WWZ4-4']"
      ]
     },
     "execution_count": 47,
     "metadata": {},
     "output_type": "execute_result"
    }
   ],
   "source": [
    "['Q8WWZ4-4']*3"
   ]
  },
  {
   "cell_type": "code",
   "execution_count": 48,
   "id": "30c86aa6-961a-4bf4-a927-af58b5445f89",
   "metadata": {},
   "outputs": [
    {
     "data": {
      "text/plain": [
       "['ooooo']"
      ]
     },
     "execution_count": 48,
     "metadata": {},
     "output_type": "execute_result"
    }
   ],
   "source": [
    "cancer = 'ooooo'\n",
    "[cancer]"
   ]
  },
  {
   "cell_type": "code",
   "execution_count": 59,
   "id": "2be0ac82-66a0-4ddc-a7f7-3da3bead1d9f",
   "metadata": {},
   "outputs": [],
   "source": [
    "tips = sns.load_dataset(\"tips\")"
   ]
  },
  {
   "cell_type": "code",
   "execution_count": 60,
   "id": "209a8fb4-9057-45f3-9797-89f9f37437c1",
   "metadata": {},
   "outputs": [
    {
     "data": {
      "text/html": [
       "<div>\n",
       "<style scoped>\n",
       "    .dataframe tbody tr th:only-of-type {\n",
       "        vertical-align: middle;\n",
       "    }\n",
       "\n",
       "    .dataframe tbody tr th {\n",
       "        vertical-align: top;\n",
       "    }\n",
       "\n",
       "    .dataframe thead th {\n",
       "        text-align: right;\n",
       "    }\n",
       "</style>\n",
       "<table border=\"1\" class=\"dataframe\">\n",
       "  <thead>\n",
       "    <tr style=\"text-align: right;\">\n",
       "      <th></th>\n",
       "      <th>total_bill</th>\n",
       "      <th>tip</th>\n",
       "      <th>sex</th>\n",
       "      <th>smoker</th>\n",
       "      <th>day</th>\n",
       "      <th>time</th>\n",
       "      <th>size</th>\n",
       "    </tr>\n",
       "  </thead>\n",
       "  <tbody>\n",
       "    <tr>\n",
       "      <th>0</th>\n",
       "      <td>16.99</td>\n",
       "      <td>1.01</td>\n",
       "      <td>Female</td>\n",
       "      <td>No</td>\n",
       "      <td>Sun</td>\n",
       "      <td>Dinner</td>\n",
       "      <td>2</td>\n",
       "    </tr>\n",
       "    <tr>\n",
       "      <th>1</th>\n",
       "      <td>10.34</td>\n",
       "      <td>1.66</td>\n",
       "      <td>Male</td>\n",
       "      <td>No</td>\n",
       "      <td>Sun</td>\n",
       "      <td>Dinner</td>\n",
       "      <td>3</td>\n",
       "    </tr>\n",
       "    <tr>\n",
       "      <th>2</th>\n",
       "      <td>21.01</td>\n",
       "      <td>3.50</td>\n",
       "      <td>Male</td>\n",
       "      <td>No</td>\n",
       "      <td>Sun</td>\n",
       "      <td>Dinner</td>\n",
       "      <td>3</td>\n",
       "    </tr>\n",
       "    <tr>\n",
       "      <th>3</th>\n",
       "      <td>23.68</td>\n",
       "      <td>3.31</td>\n",
       "      <td>Male</td>\n",
       "      <td>No</td>\n",
       "      <td>Sun</td>\n",
       "      <td>Dinner</td>\n",
       "      <td>2</td>\n",
       "    </tr>\n",
       "    <tr>\n",
       "      <th>4</th>\n",
       "      <td>24.59</td>\n",
       "      <td>3.61</td>\n",
       "      <td>Female</td>\n",
       "      <td>No</td>\n",
       "      <td>Sun</td>\n",
       "      <td>Dinner</td>\n",
       "      <td>4</td>\n",
       "    </tr>\n",
       "    <tr>\n",
       "      <th>...</th>\n",
       "      <td>...</td>\n",
       "      <td>...</td>\n",
       "      <td>...</td>\n",
       "      <td>...</td>\n",
       "      <td>...</td>\n",
       "      <td>...</td>\n",
       "      <td>...</td>\n",
       "    </tr>\n",
       "    <tr>\n",
       "      <th>239</th>\n",
       "      <td>29.03</td>\n",
       "      <td>5.92</td>\n",
       "      <td>Male</td>\n",
       "      <td>No</td>\n",
       "      <td>Sat</td>\n",
       "      <td>Dinner</td>\n",
       "      <td>3</td>\n",
       "    </tr>\n",
       "    <tr>\n",
       "      <th>240</th>\n",
       "      <td>27.18</td>\n",
       "      <td>2.00</td>\n",
       "      <td>Female</td>\n",
       "      <td>Yes</td>\n",
       "      <td>Sat</td>\n",
       "      <td>Dinner</td>\n",
       "      <td>2</td>\n",
       "    </tr>\n",
       "    <tr>\n",
       "      <th>241</th>\n",
       "      <td>22.67</td>\n",
       "      <td>2.00</td>\n",
       "      <td>Male</td>\n",
       "      <td>Yes</td>\n",
       "      <td>Sat</td>\n",
       "      <td>Dinner</td>\n",
       "      <td>2</td>\n",
       "    </tr>\n",
       "    <tr>\n",
       "      <th>242</th>\n",
       "      <td>17.82</td>\n",
       "      <td>1.75</td>\n",
       "      <td>Male</td>\n",
       "      <td>No</td>\n",
       "      <td>Sat</td>\n",
       "      <td>Dinner</td>\n",
       "      <td>2</td>\n",
       "    </tr>\n",
       "    <tr>\n",
       "      <th>243</th>\n",
       "      <td>18.78</td>\n",
       "      <td>3.00</td>\n",
       "      <td>Female</td>\n",
       "      <td>No</td>\n",
       "      <td>Thur</td>\n",
       "      <td>Dinner</td>\n",
       "      <td>2</td>\n",
       "    </tr>\n",
       "  </tbody>\n",
       "</table>\n",
       "<p>244 rows × 7 columns</p>\n",
       "</div>"
      ],
      "text/plain": [
       "     total_bill   tip     sex smoker   day    time  size\n",
       "0         16.99  1.01  Female     No   Sun  Dinner     2\n",
       "1         10.34  1.66    Male     No   Sun  Dinner     3\n",
       "2         21.01  3.50    Male     No   Sun  Dinner     3\n",
       "3         23.68  3.31    Male     No   Sun  Dinner     2\n",
       "4         24.59  3.61  Female     No   Sun  Dinner     4\n",
       "..          ...   ...     ...    ...   ...     ...   ...\n",
       "239       29.03  5.92    Male     No   Sat  Dinner     3\n",
       "240       27.18  2.00  Female    Yes   Sat  Dinner     2\n",
       "241       22.67  2.00    Male    Yes   Sat  Dinner     2\n",
       "242       17.82  1.75    Male     No   Sat  Dinner     2\n",
       "243       18.78  3.00  Female     No  Thur  Dinner     2\n",
       "\n",
       "[244 rows x 7 columns]"
      ]
     },
     "execution_count": 60,
     "metadata": {},
     "output_type": "execute_result"
    }
   ],
   "source": [
    "tips"
   ]
  },
  {
   "cell_type": "code",
   "execution_count": 19,
   "id": "57cfba3d-251c-4362-a358-34b7c8160ac7",
   "metadata": {},
   "outputs": [],
   "source": [
    "def isoform_viz(cancer, norm, subset=None, swarm=False, save=False):\n",
    "    global samples\n",
    "    if not subset:\n",
    "        subset = samples\n",
    "        \n",
    "    samples_c = []\n",
    "    samples_n = []\n",
    "    \n",
    "    for s in subset:\n",
    "        samples_c.append(pd.read_csv(f'../data/tcga_initial/{s}_canc.tsv', sep='\\t'))\n",
    "        samples_n.append(pd.read_csv(f'../data/tcga_initial/{s}_norm.tsv', sep='\\t'))\n",
    "    \n",
    "    iso_avg_cc = []\n",
    "    iso_avg_cn = []\n",
    "    \n",
    "    for s in samples_c:\n",
    "        if cancer in s['UniProt'].to_list():\n",
    "            iso_avg_cc.append(s[s['UniProt'] == cancer].iloc[:,6:].to_numpy()[0])\n",
    "        else:\n",
    "            iso_avg_cc.append(np.zeros(len(s.columns)-6))\n",
    "        \n",
    "        if norm in s['UniProt'].to_list():\n",
    "            iso_avg_cn.append(s[s['UniProt'] == norm].iloc[:,6:].to_numpy()[0])\n",
    "        else:\n",
    "            iso_avg_cn.append(np.zeros(len(s.columns)-6))\n",
    "            \n",
    "    iso_avg_nc = []\n",
    "    iso_avg_nn = []\n",
    "    \n",
    "    for s in samples_n:\n",
    "        if cancer in s['UniProt'].to_list():\n",
    "            iso_avg_nc.append(s[s['UniProt'] == cancer].iloc[:,6:].to_numpy()[0])\n",
    "        else:\n",
    "            iso_avg_nc.append(np.zeros(len(s.columns)-6))\n",
    "        \n",
    "        if norm in s['UniProt'].to_list():\n",
    "            iso_avg_nn.append(s[s['UniProt'] == norm].iloc[:,6:].to_numpy()[0])\n",
    "        else:\n",
    "            iso_avg_nn.append(np.zeros(len(s.columns)-6))\n",
    "        \n",
    "    fig, ax = plt.subplots(figsize=(4*len(subset),6))\n",
    "    \n",
    "    ax.grid(visible=False, axis='y')\n",
    "    trans_label = transforms.blended_transform_factory(ax.transData, ax.transAxes)\n",
    "    \n",
    "    cancer_x_all = []\n",
    "    norm_x_all = []\n",
    "    cancer_x_labels = []\n",
    "    norm_x_labels = []\n",
    "    \n",
    "    x = 0\n",
    "    for i in range(len(subset)):\n",
    "        cancer_x_all.append(np.linspace(x,x+0.2*(len(iso_avg_cc[i])-1),len(iso_avg_cc[i])))\n",
    "        cancer_x_labels.append(np.array([(x+0.2*len(iso_avg_cc[i])-1)/2]))\n",
    "        x += (0.2*len(iso_avg_cc[i])-1)+1\n",
    "        norm_x_all.append(np.linspace(x,x+0.2*(len(iso_avg_nc[i])-1),len(iso_avg_cc[i])))\n",
    "        norm_x_labels.append(np.array([(x+0.2*len(iso_avg_nc[i])-1)/2]))\n",
    "        x += (0.2*len(iso_avg_nc[i])-1)+1\n",
    "        \n",
    "    iso_avg_cc = np.concatenate(iso_avg_cc).ravel()\n",
    "    iso_avg_cn = np.concatenate(iso_avg_cn).ravel()\n",
    "    iso_avg_nc = np.concatenate(iso_avg_nc).ravel()\n",
    "    iso_avg_nn = np.concatenate(iso_avg_nn).ravel()\n",
    "    \n",
    "    iso_avg_cn = np.add(iso_avg_cc, iso_avg_cn)\n",
    "    iso_avg_nn = np.add(iso_avg_nc, iso_avg_nn)\n",
    "    \n",
    "    cancer_x_all = np.concatenate(cancer_x_all).ravel()\n",
    "    cancer_x_labels = np.concatenate(cancer_x_labels).ravel()\n",
    "    norm_x_all = np.concatenate(norm_x_all).ravel()\n",
    "    norm_x_labels = np.concatenate(norm_x_labels).ravel()\n",
    "    \n",
    "    plt.bar(x=cancer_x_all, height=iso_avg_cn, width=0.2, color='C3')\n",
    "    plt.bar(x=cancer_x_all, height=iso_avg_cc, width=0.2, color='C2')\n",
    "    \n",
    "    plt.bar(x=norm_x_all, height=iso_avg_nn, width=0.2, color='C3')\n",
    "    plt.bar(x=norm_x_all, height=iso_avg_nc, width=0.2, color='C2')"
   ]
  },
  {
   "cell_type": "code",
   "execution_count": 20,
   "id": "e6ae732f-7f9c-4c1b-ad88-0e65c3465e97",
   "metadata": {},
   "outputs": [
    {
     "data": {
      "text/plain": [
       "array([0. , 0.2, 0.4, 0.6, 0.8, 1. , 1.2, 1.4, 1.6, 1.8, 2. , 2.2, 2.4,\n",
       "       2.6, 2.8, 3. , 3.2, 3.4, 3.6, 3.8])"
      ]
     },
     "execution_count": 20,
     "metadata": {},
     "output_type": "execute_result"
    }
   ],
   "source": [
    "np.linspace(0,0+0.2*19,20)"
   ]
  },
  {
   "cell_type": "code",
   "execution_count": 53,
   "id": "dc5f5ccd-102c-4864-aade-a58cfe08ecdc",
   "metadata": {},
   "outputs": [
    {
     "ename": "ValueError",
     "evalue": "shape mismatch: objects cannot be broadcast to a single shape.  Mismatch is between arg 0 with shape (701,) and arg 1 with shape (22,).",
     "output_type": "error",
     "traceback": [
      "\u001b[1;31m---------------------------------------------------------------------------\u001b[0m",
      "\u001b[1;31mValueError\u001b[0m                                Traceback (most recent call last)",
      "Input \u001b[1;32mIn [53]\u001b[0m, in \u001b[0;36m<cell line: 1>\u001b[1;34m()\u001b[0m\n\u001b[1;32m----> 1\u001b[0m \u001b[43misoform_viz\u001b[49m\u001b[43m(\u001b[49m\u001b[43mcancer\u001b[49m\u001b[38;5;241;43m=\u001b[39;49m\u001b[38;5;124;43m'\u001b[39;49m\u001b[38;5;124;43mQ8TCG5-2\u001b[39;49m\u001b[38;5;124;43m'\u001b[39;49m\u001b[43m,\u001b[49m\u001b[43m \u001b[49m\u001b[43mnorm\u001b[49m\u001b[38;5;241;43m=\u001b[39;49m\u001b[38;5;124;43m'\u001b[39;49m\u001b[38;5;124;43mQ8TCG5-3\u001b[39;49m\u001b[38;5;124;43m'\u001b[39;49m\u001b[43m,\u001b[49m\u001b[43m \u001b[49m\u001b[43msubset\u001b[49m\u001b[38;5;241;43m=\u001b[39;49m\u001b[43m[\u001b[49m\u001b[38;5;124;43m'\u001b[39;49m\u001b[38;5;124;43mBLCA\u001b[39;49m\u001b[38;5;124;43m'\u001b[39;49m\u001b[43m,\u001b[49m\u001b[43m \u001b[49m\u001b[38;5;124;43m'\u001b[39;49m\u001b[38;5;124;43mCESC\u001b[39;49m\u001b[38;5;124;43m'\u001b[39;49m\u001b[43m]\u001b[49m\u001b[43m)\u001b[49m\n",
      "Input \u001b[1;32mIn [19]\u001b[0m, in \u001b[0;36misoform_viz\u001b[1;34m(cancer, norm, subset, swarm, save)\u001b[0m\n\u001b[0;32m     73\u001b[0m plt\u001b[38;5;241m.\u001b[39mbar(x\u001b[38;5;241m=\u001b[39mcancer_x_all, height\u001b[38;5;241m=\u001b[39miso_avg_cn, width\u001b[38;5;241m=\u001b[39m\u001b[38;5;241m0.2\u001b[39m, color\u001b[38;5;241m=\u001b[39m\u001b[38;5;124m'\u001b[39m\u001b[38;5;124mC3\u001b[39m\u001b[38;5;124m'\u001b[39m)\n\u001b[0;32m     74\u001b[0m plt\u001b[38;5;241m.\u001b[39mbar(x\u001b[38;5;241m=\u001b[39mcancer_x_all, height\u001b[38;5;241m=\u001b[39miso_avg_cc, width\u001b[38;5;241m=\u001b[39m\u001b[38;5;241m0.2\u001b[39m, color\u001b[38;5;241m=\u001b[39m\u001b[38;5;124m'\u001b[39m\u001b[38;5;124mC2\u001b[39m\u001b[38;5;124m'\u001b[39m)\n\u001b[1;32m---> 76\u001b[0m \u001b[43mplt\u001b[49m\u001b[38;5;241;43m.\u001b[39;49m\u001b[43mbar\u001b[49m\u001b[43m(\u001b[49m\u001b[43mx\u001b[49m\u001b[38;5;241;43m=\u001b[39;49m\u001b[43mnorm_x_all\u001b[49m\u001b[43m,\u001b[49m\u001b[43m \u001b[49m\u001b[43mheight\u001b[49m\u001b[38;5;241;43m=\u001b[39;49m\u001b[43miso_avg_nn\u001b[49m\u001b[43m,\u001b[49m\u001b[43m \u001b[49m\u001b[43mwidth\u001b[49m\u001b[38;5;241;43m=\u001b[39;49m\u001b[38;5;241;43m0.2\u001b[39;49m\u001b[43m,\u001b[49m\u001b[43m \u001b[49m\u001b[43mcolor\u001b[49m\u001b[38;5;241;43m=\u001b[39;49m\u001b[38;5;124;43m'\u001b[39;49m\u001b[38;5;124;43mC3\u001b[39;49m\u001b[38;5;124;43m'\u001b[39;49m\u001b[43m)\u001b[49m\n\u001b[0;32m     77\u001b[0m plt\u001b[38;5;241m.\u001b[39mbar(x\u001b[38;5;241m=\u001b[39mnorm_x_all, height\u001b[38;5;241m=\u001b[39miso_avg_nc, width\u001b[38;5;241m=\u001b[39m\u001b[38;5;241m0.2\u001b[39m, color\u001b[38;5;241m=\u001b[39m\u001b[38;5;124m'\u001b[39m\u001b[38;5;124mC2\u001b[39m\u001b[38;5;124m'\u001b[39m)\n",
      "File \u001b[1;32m~\\AppData\\Local\\Programs\\Python\\Python310\\lib\\site-packages\\matplotlib\\pyplot.py:2387\u001b[0m, in \u001b[0;36mbar\u001b[1;34m(x, height, width, bottom, align, data, **kwargs)\u001b[0m\n\u001b[0;32m   2383\u001b[0m \u001b[38;5;129m@_copy_docstring_and_deprecators\u001b[39m(Axes\u001b[38;5;241m.\u001b[39mbar)\n\u001b[0;32m   2384\u001b[0m \u001b[38;5;28;01mdef\u001b[39;00m \u001b[38;5;21mbar\u001b[39m(\n\u001b[0;32m   2385\u001b[0m         x, height, width\u001b[38;5;241m=\u001b[39m\u001b[38;5;241m0.8\u001b[39m, bottom\u001b[38;5;241m=\u001b[39m\u001b[38;5;28;01mNone\u001b[39;00m, \u001b[38;5;241m*\u001b[39m, align\u001b[38;5;241m=\u001b[39m\u001b[38;5;124m'\u001b[39m\u001b[38;5;124mcenter\u001b[39m\u001b[38;5;124m'\u001b[39m,\n\u001b[0;32m   2386\u001b[0m         data\u001b[38;5;241m=\u001b[39m\u001b[38;5;28;01mNone\u001b[39;00m, \u001b[38;5;241m*\u001b[39m\u001b[38;5;241m*\u001b[39mkwargs):\n\u001b[1;32m-> 2387\u001b[0m     \u001b[38;5;28;01mreturn\u001b[39;00m gca()\u001b[38;5;241m.\u001b[39mbar(\n\u001b[0;32m   2388\u001b[0m         x, height, width\u001b[38;5;241m=\u001b[39mwidth, bottom\u001b[38;5;241m=\u001b[39mbottom, align\u001b[38;5;241m=\u001b[39malign,\n\u001b[0;32m   2389\u001b[0m         \u001b[38;5;241m*\u001b[39m\u001b[38;5;241m*\u001b[39m({\u001b[38;5;124m\"\u001b[39m\u001b[38;5;124mdata\u001b[39m\u001b[38;5;124m\"\u001b[39m: data} \u001b[38;5;28;01mif\u001b[39;00m data \u001b[38;5;129;01mis\u001b[39;00m \u001b[38;5;129;01mnot\u001b[39;00m \u001b[38;5;28;01mNone\u001b[39;00m \u001b[38;5;28;01melse\u001b[39;00m {}), \u001b[38;5;241m*\u001b[39m\u001b[38;5;241m*\u001b[39mkwargs)\n",
      "File \u001b[1;32m~\\AppData\\Local\\Programs\\Python\\Python310\\lib\\site-packages\\matplotlib\\__init__.py:1412\u001b[0m, in \u001b[0;36m_preprocess_data.<locals>.inner\u001b[1;34m(ax, data, *args, **kwargs)\u001b[0m\n\u001b[0;32m   1409\u001b[0m \u001b[38;5;129m@functools\u001b[39m\u001b[38;5;241m.\u001b[39mwraps(func)\n\u001b[0;32m   1410\u001b[0m \u001b[38;5;28;01mdef\u001b[39;00m \u001b[38;5;21minner\u001b[39m(ax, \u001b[38;5;241m*\u001b[39margs, data\u001b[38;5;241m=\u001b[39m\u001b[38;5;28;01mNone\u001b[39;00m, \u001b[38;5;241m*\u001b[39m\u001b[38;5;241m*\u001b[39mkwargs):\n\u001b[0;32m   1411\u001b[0m     \u001b[38;5;28;01mif\u001b[39;00m data \u001b[38;5;129;01mis\u001b[39;00m \u001b[38;5;28;01mNone\u001b[39;00m:\n\u001b[1;32m-> 1412\u001b[0m         \u001b[38;5;28;01mreturn\u001b[39;00m func(ax, \u001b[38;5;241m*\u001b[39m\u001b[38;5;28mmap\u001b[39m(sanitize_sequence, args), \u001b[38;5;241m*\u001b[39m\u001b[38;5;241m*\u001b[39mkwargs)\n\u001b[0;32m   1414\u001b[0m     bound \u001b[38;5;241m=\u001b[39m new_sig\u001b[38;5;241m.\u001b[39mbind(ax, \u001b[38;5;241m*\u001b[39margs, \u001b[38;5;241m*\u001b[39m\u001b[38;5;241m*\u001b[39mkwargs)\n\u001b[0;32m   1415\u001b[0m     auto_label \u001b[38;5;241m=\u001b[39m (bound\u001b[38;5;241m.\u001b[39marguments\u001b[38;5;241m.\u001b[39mget(label_namer)\n\u001b[0;32m   1416\u001b[0m                   \u001b[38;5;129;01mor\u001b[39;00m bound\u001b[38;5;241m.\u001b[39mkwargs\u001b[38;5;241m.\u001b[39mget(label_namer))\n",
      "File \u001b[1;32m~\\AppData\\Local\\Programs\\Python\\Python310\\lib\\site-packages\\matplotlib\\axes\\_axes.py:2342\u001b[0m, in \u001b[0;36mAxes.bar\u001b[1;34m(self, x, height, width, bottom, align, **kwargs)\u001b[0m\n\u001b[0;32m   2339\u001b[0m     \u001b[38;5;28;01mif\u001b[39;00m yerr \u001b[38;5;129;01mis\u001b[39;00m \u001b[38;5;129;01mnot\u001b[39;00m \u001b[38;5;28;01mNone\u001b[39;00m:\n\u001b[0;32m   2340\u001b[0m         yerr \u001b[38;5;241m=\u001b[39m \u001b[38;5;28mself\u001b[39m\u001b[38;5;241m.\u001b[39m_convert_dx(yerr, y0, y, \u001b[38;5;28mself\u001b[39m\u001b[38;5;241m.\u001b[39mconvert_yunits)\n\u001b[1;32m-> 2342\u001b[0m x, height, width, y, linewidth, hatch \u001b[38;5;241m=\u001b[39m \u001b[43mnp\u001b[49m\u001b[38;5;241;43m.\u001b[39;49m\u001b[43mbroadcast_arrays\u001b[49m\u001b[43m(\u001b[49m\n\u001b[0;32m   2343\u001b[0m \u001b[43m    \u001b[49m\u001b[38;5;66;43;03m# Make args iterable too.\u001b[39;49;00m\n\u001b[0;32m   2344\u001b[0m \u001b[43m    \u001b[49m\u001b[43mnp\u001b[49m\u001b[38;5;241;43m.\u001b[39;49m\u001b[43matleast_1d\u001b[49m\u001b[43m(\u001b[49m\u001b[43mx\u001b[49m\u001b[43m)\u001b[49m\u001b[43m,\u001b[49m\u001b[43m \u001b[49m\u001b[43mheight\u001b[49m\u001b[43m,\u001b[49m\u001b[43m \u001b[49m\u001b[43mwidth\u001b[49m\u001b[43m,\u001b[49m\u001b[43m \u001b[49m\u001b[43my\u001b[49m\u001b[43m,\u001b[49m\u001b[43m \u001b[49m\u001b[43mlinewidth\u001b[49m\u001b[43m,\u001b[49m\u001b[43m \u001b[49m\u001b[43mhatch\u001b[49m\u001b[43m)\u001b[49m\n\u001b[0;32m   2346\u001b[0m \u001b[38;5;66;03m# Now that units have been converted, set the tick locations.\u001b[39;00m\n\u001b[0;32m   2347\u001b[0m \u001b[38;5;28;01mif\u001b[39;00m orientation \u001b[38;5;241m==\u001b[39m \u001b[38;5;124m'\u001b[39m\u001b[38;5;124mvertical\u001b[39m\u001b[38;5;124m'\u001b[39m:\n",
      "File \u001b[1;32m<__array_function__ internals>:180\u001b[0m, in \u001b[0;36mbroadcast_arrays\u001b[1;34m(*args, **kwargs)\u001b[0m\n",
      "File \u001b[1;32m~\\AppData\\Local\\Programs\\Python\\Python310\\lib\\site-packages\\numpy\\lib\\stride_tricks.py:539\u001b[0m, in \u001b[0;36mbroadcast_arrays\u001b[1;34m(subok, *args)\u001b[0m\n\u001b[0;32m    532\u001b[0m \u001b[38;5;66;03m# nditer is not used here to avoid the limit of 32 arrays.\u001b[39;00m\n\u001b[0;32m    533\u001b[0m \u001b[38;5;66;03m# Otherwise, something like the following one-liner would suffice:\u001b[39;00m\n\u001b[0;32m    534\u001b[0m \u001b[38;5;66;03m# return np.nditer(args, flags=['multi_index', 'zerosize_ok'],\u001b[39;00m\n\u001b[0;32m    535\u001b[0m \u001b[38;5;66;03m#                  order='C').itviews\u001b[39;00m\n\u001b[0;32m    537\u001b[0m args \u001b[38;5;241m=\u001b[39m [np\u001b[38;5;241m.\u001b[39marray(_m, copy\u001b[38;5;241m=\u001b[39m\u001b[38;5;28;01mFalse\u001b[39;00m, subok\u001b[38;5;241m=\u001b[39msubok) \u001b[38;5;28;01mfor\u001b[39;00m _m \u001b[38;5;129;01min\u001b[39;00m args]\n\u001b[1;32m--> 539\u001b[0m shape \u001b[38;5;241m=\u001b[39m \u001b[43m_broadcast_shape\u001b[49m\u001b[43m(\u001b[49m\u001b[38;5;241;43m*\u001b[39;49m\u001b[43margs\u001b[49m\u001b[43m)\u001b[49m\n\u001b[0;32m    541\u001b[0m \u001b[38;5;28;01mif\u001b[39;00m \u001b[38;5;28mall\u001b[39m(array\u001b[38;5;241m.\u001b[39mshape \u001b[38;5;241m==\u001b[39m shape \u001b[38;5;28;01mfor\u001b[39;00m array \u001b[38;5;129;01min\u001b[39;00m args):\n\u001b[0;32m    542\u001b[0m     \u001b[38;5;66;03m# Common case where nothing needs to be broadcasted.\u001b[39;00m\n\u001b[0;32m    543\u001b[0m     \u001b[38;5;28;01mreturn\u001b[39;00m args\n",
      "File \u001b[1;32m~\\AppData\\Local\\Programs\\Python\\Python310\\lib\\site-packages\\numpy\\lib\\stride_tricks.py:421\u001b[0m, in \u001b[0;36m_broadcast_shape\u001b[1;34m(*args)\u001b[0m\n\u001b[0;32m    416\u001b[0m \u001b[38;5;124;03m\"\"\"Returns the shape of the arrays that would result from broadcasting the\u001b[39;00m\n\u001b[0;32m    417\u001b[0m \u001b[38;5;124;03msupplied arrays against each other.\u001b[39;00m\n\u001b[0;32m    418\u001b[0m \u001b[38;5;124;03m\"\"\"\u001b[39;00m\n\u001b[0;32m    419\u001b[0m \u001b[38;5;66;03m# use the old-iterator because np.nditer does not handle size 0 arrays\u001b[39;00m\n\u001b[0;32m    420\u001b[0m \u001b[38;5;66;03m# consistently\u001b[39;00m\n\u001b[1;32m--> 421\u001b[0m b \u001b[38;5;241m=\u001b[39m \u001b[43mnp\u001b[49m\u001b[38;5;241;43m.\u001b[39;49m\u001b[43mbroadcast\u001b[49m\u001b[43m(\u001b[49m\u001b[38;5;241;43m*\u001b[39;49m\u001b[43margs\u001b[49m\u001b[43m[\u001b[49m\u001b[43m:\u001b[49m\u001b[38;5;241;43m32\u001b[39;49m\u001b[43m]\u001b[49m\u001b[43m)\u001b[49m\n\u001b[0;32m    422\u001b[0m \u001b[38;5;66;03m# unfortunately, it cannot handle 32 or more arguments directly\u001b[39;00m\n\u001b[0;32m    423\u001b[0m \u001b[38;5;28;01mfor\u001b[39;00m pos \u001b[38;5;129;01min\u001b[39;00m \u001b[38;5;28mrange\u001b[39m(\u001b[38;5;241m32\u001b[39m, \u001b[38;5;28mlen\u001b[39m(args), \u001b[38;5;241m31\u001b[39m):\n\u001b[0;32m    424\u001b[0m     \u001b[38;5;66;03m# ironically, np.broadcast does not properly handle np.broadcast\u001b[39;00m\n\u001b[0;32m    425\u001b[0m     \u001b[38;5;66;03m# objects (it treats them as scalars)\u001b[39;00m\n\u001b[0;32m    426\u001b[0m     \u001b[38;5;66;03m# use broadcasting to avoid allocating the full array\u001b[39;00m\n",
      "\u001b[1;31mValueError\u001b[0m: shape mismatch: objects cannot be broadcast to a single shape.  Mismatch is between arg 0 with shape (701,) and arg 1 with shape (22,)."
     ]
    },
    {
     "data": {
      "image/png": "[encoded data removed]",
      "text/plain": [
       "<Figure size 576x432 with 1 Axes>"
      ]
     },
     "metadata": {},
     "output_type": "display_data"
    }
   ],
   "source": [
    "isoform_viz(cancer='Q8TCG5-2', norm='Q8TCG5-3', subset=['BLCA', 'CESC'])"
   ]
  },
  {
   "cell_type": "code",
   "execution_count": 71,
   "id": "30dfb818-1c6f-433e-9717-313629829ed6",
   "metadata": {},
   "outputs": [],
   "source": [
    "sc = pd.read_csv(f'../data/tcga_initial/BLCA_canc.tsv', sep='\\t')\n",
    "sn = pd.read_csv(f'../data/tcga_initial/BLCA_norm.tsv', sep='\\t')"
   ]
  },
  {
   "cell_type": "code",
   "execution_count": 167,
   "id": "87eb39af-628d-4a11-821c-8009238399a8",
   "metadata": {},
   "outputs": [],
   "source": [
    "iso_avg_cc = sc[sc['UniProt'] == 'Q12791-6'].iloc[:,6:].to_numpy()[0]\n",
    "iso_avg_cn = sc[sc['UniProt'] == 'Q12791-5'].iloc[:,6:].to_numpy()[0]\n",
    "iso_avg_nc = sn[sn['UniProt'] == 'Q12791-6'].iloc[:,6:].to_numpy()[0]\n",
    "iso_avg_nn = sn[sn['UniProt'] == 'Q12791-5'].iloc[:,6:].to_numpy()[0]"
   ]
  },
  {
   "cell_type": "code",
   "execution_count": 168,
   "id": "1b286302-5879-4590-b97d-af730223cdbe",
   "metadata": {},
   "outputs": [],
   "source": [
    "cancer_x_all = []\n",
    "norm_x_all = []\n",
    "x_labels = []\n",
    "\n",
    "x = 0\n",
    "cancer_x_all.append(np.linspace(x,x+0.2*(len(iso_avg_cc)-1),len(iso_avg_cc)))\n",
    "x_labels.append(np.array([(x+(0.2*(len(iso_avg_cc)-1))/2)]))\n",
    "x += (0.2*len(iso_avg_cc)-1)+4\n",
    "norm_x_all.append(np.linspace(x,x+0.2*(len(iso_avg_nc)-1),len(iso_avg_nc)))\n",
    "x_labels.append(np.array([(x+(0.2*(len(iso_avg_nc)-1))/2)]))\n",
    "x += (0.2*len(iso_avg_nc)-1)+4"
   ]
  },
  {
   "cell_type": "code",
   "execution_count": 169,
   "id": "e8b720e5-4b76-4bc7-9b30-4ce6b0ca6ce5",
   "metadata": {},
   "outputs": [],
   "source": [
    "iso_avg_cn = np.add(iso_avg_cc, iso_avg_cn)\n",
    "iso_avg_cn_sort = bell_sort(iso_avg_cn)\n",
    "iso_avg_cn = iso_avg_cn[iso_avg_cn_sort[::-1]]\n",
    "iso_avg_cc = iso_avg_cc[iso_avg_cn_sort[::-1]]\n",
    "\n",
    "iso_avg_nn = np.add(iso_avg_nc, iso_avg_nn)\n",
    "iso_avg_nn_sort = bell_sort(iso_avg_nn)\n",
    "iso_avg_nc = iso_avg_nc[iso_avg_nn_sort[::-1]]\n",
    "iso_avg_nn = iso_avg_nn[iso_avg_nn_sort[::-1]]"
   ]
  },
  {
   "cell_type": "code",
   "execution_count": 170,
   "id": "1b39c008-a26e-42c1-adc3-67f872258aa0",
   "metadata": {},
   "outputs": [
    {
     "data": {
      "text/plain": [
       "array([0.        , 3.64615113, 6.94254266, 4.36440434, 3.83091445,\n",
       "       4.98319884, 5.85675667, 6.15663729, 5.92902401, 5.9862926 ,\n",
       "       6.53655807, 6.22781615, 5.67678643, 6.0269129 , 3.41390544,\n",
       "       4.04413179, 3.29598745, 3.62344551, 3.20817387])"
      ]
     },
     "execution_count": 170,
     "metadata": {},
     "output_type": "execute_result"
    }
   ],
   "source": [
    "iso_avg_nc"
   ]
  },
  {
   "cell_type": "code",
   "execution_count": 171,
   "id": "10c021c2-b535-4fd6-a86e-99f2852d7916",
   "metadata": {},
   "outputs": [
    {
     "data": {
      "text/plain": [
       "array([10,  7,  5,  4, 15, 18,  9,  8,  0,  3,  2,  1, 11, 14, 16, 13, 12,\n",
       "        6, 17], dtype=int64)"
      ]
     },
     "execution_count": 171,
     "metadata": {},
     "output_type": "execute_result"
    }
   ],
   "source": [
    "iso_avg_nn_sort"
   ]
  },
  {
   "cell_type": "code",
   "execution_count": 172,
   "id": "5eeae52f-8b2c-4ec5-a7a5-c535c22b83d3",
   "metadata": {},
   "outputs": [],
   "source": [
    "cancer_x_all = np.concatenate(cancer_x_all).ravel()\n",
    "x_labels = np.concatenate(x_labels).ravel()\n",
    "norm_x_all = np.concatenate(norm_x_all).ravel()"
   ]
  },
  {
   "cell_type": "code",
   "execution_count": 173,
   "id": "04539751-0a58-45c3-a365-d6211571b6b0",
   "metadata": {},
   "outputs": [
    {
     "data": {
      "text/plain": [
       "19"
      ]
     },
     "execution_count": 173,
     "metadata": {},
     "output_type": "execute_result"
    }
   ],
   "source": [
    "len(norm_x_all)"
   ]
  },
  {
   "cell_type": "code",
   "execution_count": 174,
   "id": "121213d3-cbca-4828-9a52-c01db77567db",
   "metadata": {},
   "outputs": [
    {
     "data": {
      "text/plain": [
       "array([40.4, 85.8])"
      ]
     },
     "execution_count": 174,
     "metadata": {},
     "output_type": "execute_result"
    }
   ],
   "source": [
    "x_labels"
   ]
  },
  {
   "cell_type": "code",
   "execution_count": 179,
   "id": "7c1fc9e0-b1a3-4b17-ad66-0ff88410e851",
   "metadata": {},
   "outputs": [
    {
     "data": {
      "image/png": "[encoded data removed]",
      "text/plain": [
       "<Figure size 720x504 with 1 Axes>"
      ]
     },
     "metadata": {},
     "output_type": "display_data"
    }
   ],
   "source": [
    "plt.figure(figsize=(10,7))\n",
    "\n",
    "plt.bar(x=cancer_x_all, height=iso_avg_cn, width=0.2, color='C2', linewidth=0)\n",
    "plt.bar(x=cancer_x_all, height=iso_avg_cc, width=0.2, color='C3', linewidth=0)\n",
    "\n",
    "plt.bar(x=norm_x_all, height=iso_avg_nn, width=0.2, color='C2', linewidth=0)\n",
    "plt.bar(x=norm_x_all, height=iso_avg_nc, width=0.2, color='C3', linewidth=0)\n",
    "\n",
    "plt.xticks(x_labels, ['Cancer', 'Norm'])\n",
    "\n",
    "\n",
    "plt.ylabel('TPM')\n",
    "legends = [Line2D([0], [0], marker='o', color='w', markerfacecolor='C3', markersize=12, label='Isoform prevailing in Cancer'),\n",
    "               Line2D([0], [0], marker='o', color='w', markerfacecolor='C2', markersize=12, label='Isoform prevailing in Norm')]\n",
    "\n",
    "ymin, ymax = plt.ylim()\n",
    "plt.ylim(bottom=0, top=1.15*ymax)\n",
    "plt.legend(handles=legends, loc='upper right')\n",
    "plt.savefig('viz3.png', dpi=300, bbox_inches='tight')"
   ]
  },
  {
   "cell_type": "code",
   "execution_count": 132,
   "id": "2abe8359-8812-44a5-8ae4-381cb3860e46",
   "metadata": {},
   "outputs": [
    {
     "data": {
      "text/plain": [
       "array([40.])"
      ]
     },
     "execution_count": 132,
     "metadata": {},
     "output_type": "execute_result"
    }
   ],
   "source": [
    "cancer_x_labels"
   ]
  },
  {
   "cell_type": "code",
   "execution_count": 111,
   "id": "56257ed5-7ab1-4dd8-9e73-1bb3c2772962",
   "metadata": {},
   "outputs": [],
   "source": [
    "from collections import deque\n",
    "\n",
    "def bell_sort(arr):\n",
    "    arr = arr.copy()\n",
    "    inds = deque()\n",
    "    i = len(arr)\n",
    "    while i > 0:\n",
    "        inds.append(arr.argmax())\n",
    "        arr[arr.argmax()] = -1\n",
    "        i -= 1\n",
    "        if i != 0:\n",
    "            inds.appendleft(arr.argmax())\n",
    "            arr[arr.argmax()] = -1\n",
    "            i -= 1\n",
    "            \n",
    "    return np.array(inds)"
   ]
  },
  {
   "cell_type": "code",
   "execution_count": 107,
   "id": "2686af60-c1d1-475b-9aa1-239fb9043e34",
   "metadata": {},
   "outputs": [
    {
     "data": {
      "text/plain": [
       "157"
      ]
     },
     "execution_count": 107,
     "metadata": {},
     "output_type": "execute_result"
    }
   ],
   "source": [
    "iso_avg_cc.argmax()"
   ]
  },
  {
   "cell_type": "code",
   "execution_count": 108,
   "id": "067c9034-b4f5-4134-8fff-8ff22bc62089",
   "metadata": {},
   "outputs": [
    {
     "data": {
      "text/plain": [
       "array([8.2600633])"
      ]
     },
     "execution_count": 108,
     "metadata": {},
     "output_type": "execute_result"
    }
   ],
   "source": [
    "iso_avg_cc[[157]]"
   ]
  },
  {
   "cell_type": "code",
   "execution_count": 110,
   "id": "a2c7a57e-9252-4247-bbbb-94a01e5c169b",
   "metadata": {},
   "outputs": [
    {
     "data": {
      "text/plain": [
       "array([  0,   0,   0,   0,   0,   0,   0,   0,   0,   0,   0,   0,   0,\n",
       "         0,   0,   0,   0,   0,   0,   0,   0,   0,   0,   0,   0,   0,\n",
       "         0,   0,   0,  30,  19,  30,  30,  27,  22,  42,  66,  57,  52,\n",
       "        55,  16,  61,  27,  59,  10,  23,  32,  40,  94,  61,   5,  78,\n",
       "        49,  67,  74,  50,  44,  44,  22,  90,  96, 110, 109,  45,  51,\n",
       "       106,  42, 125,  83, 138,  25,   0,   0,  68,  45,  34, 119,  48,\n",
       "        20, 155, 116,  31,  76,  45, 152, 125, 107, 130, 114,  91,  97,\n",
       "       136,  15,  95,  97, 112,  76,  61,  79,  17,  80,  63, 121,  16,\n",
       "       156, 188, 148, 104,  66, 109, 194, 104, 203,  33, 192,  69,  63,\n",
       "       171,  80, 141, 135,  25, 182, 179,  32,  86, 186, 218,  60, 231,\n",
       "       170,  17,  98, 128,  30,  40,  99, 126, 154, 146, 132,  52, 275,\n",
       "        12, 188,  47,  23, 212, 138, 146,  99, 141,  23, 130, 217,  77,\n",
       "       200, 262, 130, 159, 135, 186, 108, 151, 272, 109,  96, 191,  88,\n",
       "       196, 183, 214, 172, 334,  59, 193,  81, 313,  97, 248, 126,  91,\n",
       "        94, 191, 317, 110, 233, 249,  94,  29, 135, 193,  30, 129, 227,\n",
       "       229, 145, 293, 275, 201, 202, 295, 157, 226, 208, 128, 103, 118,\n",
       "       197, 229, 380,  21,  76, 358, 260, 258, 111, 245, 163, 290,  70,\n",
       "       228,  58,  93, 131,  28, 267, 152, 131,  50, 166,  60, 179, 181,\n",
       "        18, 314, 161,  40, 253, 151, 184, 164, 182, 226, 137, 218, 151,\n",
       "       135,  68,  75, 102,  14,  80, 155, 119,  94,  48, 146,  79,  84,\n",
       "       269,  15, 185, 181, 177, 123, 144,  62,  39, 168,  47,  80, 172,\n",
       "        20,  82, 252, 140, 128, 202,  97, 133,  86, 135, 118, 158, 123,\n",
       "       132, 159, 156,  67,  30, 181, 126, 183,  87,  52, 134,  77, 189,\n",
       "        82,  93,  20, 123,  97,  15,  27, 111,  56, 105, 100, 156,  15,\n",
       "       144,  32,  90,  77, 122,  79,  62, 138, 159,  85,  81,  93, 151,\n",
       "       155, 118, 101, 108,  58,  17,   0,   0,   3, 138, 138, 116, 125,\n",
       "        88,  71,  62,  97, 110,  25, 100,  19,  50,  64,  91,  25,  27,\n",
       "        93,  76,   2,   5,  79,  16,  20,  10,  74,  24,  36,  52,  48,\n",
       "        22,  13,  53,  61,  15,  44,  27,  30,  34,  22,  27,   0,   0,\n",
       "         0,   0,   0,   0,   0,   0,   0,   0,   0,   0,   0,   0,   0,\n",
       "         0,   0,   0,   0,   0,   0,   0,   0,   0,   0,   0,   0,   0,\n",
       "         0,   0], dtype=int64)"
      ]
     },
     "execution_count": 110,
     "metadata": {},
     "output_type": "execute_result"
    }
   ],
   "source": [
    "bell_sort(iso_avg_cc)"
   ]
  },
  {
   "cell_type": "code",
   "execution_count": null,
   "id": "219dc40e-de13-4c82-9bc6-0a127d24a1dd",
   "metadata": {},
   "outputs": [],
   "source": []
  }
 ],
 "metadata": {
  "kernelspec": {
   "display_name": "Python 3 (ipykernel)",
   "language": "python",
   "name": "python3"
  },
  "language_info": {
   "codemirror_mode": {
    "name": "ipython",
    "version": 3
   },
   "file_extension": ".py",
   "mimetype": "text/x-python",
   "name": "python",
   "nbconvert_exporter": "python",
   "pygments_lexer": "ipython3",
   "version": "3.10.4"
  }
 },
 "nbformat": 4,
 "nbformat_minor": 5
}
