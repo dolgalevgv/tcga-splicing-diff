{
 "cells": [
  {
   "cell_type": "markdown",
   "id": "97479d57-21af-4567-a810-d8f89c72df5a",
   "metadata": {},
   "source": [
    "## **Main**\n",
    "This notebook contains all the steps necessary to reproduce the analysis for the tcga-splicing-diff project"
   ]
  },
  {
   "cell_type": "markdown",
   "id": "7b9870b4-6ef4-4a94-b25c-88fe1f4a3bc1",
   "metadata": {
    "tags": []
   },
   "source": [
    "### **1. Data processing**"
   ]
  },
  {
   "cell_type": "markdown",
   "id": "6323bca4-c7f4-4e42-89eb-57ee47d040a3",
   "metadata": {},
   "source": [
    "**1.1. Ensembl annotation**"
   ]
  },
  {
   "cell_type": "code",
   "execution_count": 1,
   "id": "434620b0-0b9b-4d8d-ae07-8d9e18e1e66c",
   "metadata": {},
   "outputs": [
    {
     "name": "stdout",
     "output_type": "stream",
     "text": [
      "\n",
      "IPython CPU timings (estimated):\n",
      "  User   :       2.98 s.\n",
      "  System :       0.00 s.\n",
      "Wall time:       4.24 s.\n"
     ]
    }
   ],
   "source": [
    "%run -t \"../src/data_processing/processing_ensembl_annotation.py\""
   ]
  },
  {
   "cell_type": "markdown",
   "id": "c8faeded-fb65-4dff-b2ca-6d8b9fc287af",
   "metadata": {},
   "source": [
    "**1.2. Toil Recompute project expression data for TCGA, TARGET and GTEx**"
   ]
  },
  {
   "cell_type": "code",
   "execution_count": 2,
   "id": "c5cdbfcc-f5a9-40cb-a23f-ad106d15ad69",
   "metadata": {},
   "outputs": [
    {
     "name": "stdout",
     "output_type": "stream",
     "text": [
      "\n",
      "IPython CPU timings (estimated):\n",
      "  User   :    1528.03 s.\n",
      "  System :       0.00 s.\n",
      "Wall time:    1992.22 s.\n"
     ]
    }
   ],
   "source": [
    "%run -t \"../src/data_processing/processing_toil_expression.py\""
   ]
  },
  {
   "cell_type": "markdown",
   "id": "34decfdc-ec4f-4f9c-ac87-6630555ea316",
   "metadata": {},
   "source": [
    "**1.3. DepMap expression data for cell lines**"
   ]
  },
  {
   "cell_type": "code",
   "execution_count": 3,
   "id": "105f3263-3e17-43dd-a6a6-05b6b68f2b8b",
   "metadata": {},
   "outputs": [
    {
     "name": "stdout",
     "output_type": "stream",
     "text": [
      "\n",
      "IPython CPU timings (estimated):\n",
      "  User   :    1161.12 s.\n",
      "  System :       0.00 s.\n",
      "Wall time:    1254.26 s.\n"
     ]
    }
   ],
   "source": [
    "%run -t \"../src/data_processing/processing_depmap_expression.py\""
   ]
  },
  {
   "cell_type": "markdown",
   "id": "76a1f478-fa99-4bc8-8a2b-04ef07a8f0ec",
   "metadata": {},
   "source": [
    "**1.4. Human Protein Atlas expression data for cell lines**"
   ]
  },
  {
   "cell_type": "code",
   "execution_count": 5,
   "id": "a657bb0a-acaf-4d01-be85-f0a5bdc0b466",
   "metadata": {},
   "outputs": [
    {
     "name": "stdout",
     "output_type": "stream",
     "text": [
      "\n",
      "IPython CPU timings (estimated):\n",
      "  User   :      13.03 s.\n",
      "  System :       0.00 s.\n",
      "Wall time:      14.01 s.\n"
     ]
    }
   ],
   "source": [
    "%run -t \"../src/data_processing/processing_hpa_expression.py\""
   ]
  },
  {
   "cell_type": "code",
   "execution_count": null,
   "id": "49b86b54-7387-4ee4-92d4-a6e0792f3b6c",
   "metadata": {},
   "outputs": [],
   "source": []
  }
 ],
 "metadata": {
  "kernelspec": {
   "display_name": "Python 3 (ipykernel)",
   "language": "python",
   "name": "python3"
  },
  "language_info": {
   "codemirror_mode": {
    "name": "ipython",
    "version": 3
   },
   "file_extension": ".py",
   "mimetype": "text/x-python",
   "name": "python",
   "nbconvert_exporter": "python",
   "pygments_lexer": "ipython3",
   "version": "3.10.4"
  }
 },
 "nbformat": 4,
 "nbformat_minor": 5
}
